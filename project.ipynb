{
 "cells": [
  {
   "cell_type": "markdown",
   "metadata": {},
   "source": [
    "# Import libraries\n"
   ]
  },
  {
   "cell_type": "code",
   "execution_count": null,
   "metadata": {
    "scrolled": true
   },
   "outputs": [],
   "source": [
    "import pandas as pd\n",
    "import numpy as np\n",
    "import matplotlib.pyplot as plt\n",
    "import seaborn as sns\n",
    "from sklearn.cluster import KMeans\n",
    "from sklearn.preprocessing import StandardScaler\n",
    "from sklearn.metrics import silhouette_score\n",
    "from sklearn_extra.cluster import KMedoids\n",
    "from sklearn.metrics import silhouette_score\n",
    "from sklearn.cluster import KMeans, AgglomerativeClustering\n",
    "from scipy.cluster.hierarchy import linkage, dendrogram\n",
    "import os\n",
    "from sklearn.cluster import DBSCAN\n",
    "from sklearn.cluster import AgglomerativeClustering "
   ]
  },
  {
   "cell_type": "markdown",
   "metadata": {},
   "source": [
    "# Load the dataset\n"
   ]
  },
  {
   "cell_type": "code",
   "execution_count": null,
   "metadata": {},
   "outputs": [],
   "source": [
    "data = pd.read_csv('./dataset/CC GENERAL.csv')"
   ]
  },
  {
   "cell_type": "code",
   "execution_count": null,
   "metadata": {},
   "outputs": [],
   "source": [
    "data.head()"
   ]
  },
  {
   "cell_type": "markdown",
   "metadata": {},
   "source": [
    "# Exploratory Data Analysis\n"
   ]
  },
  {
   "cell_type": "code",
   "execution_count": null,
   "metadata": {},
   "outputs": [],
   "source": [
    "data.info()"
   ]
  },
  {
   "cell_type": "code",
   "execution_count": null,
   "metadata": {},
   "outputs": [],
   "source": [
    "data.isnull().sum()"
   ]
  },
  {
   "cell_type": "code",
   "execution_count": null,
   "metadata": {},
   "outputs": [],
   "source": [
    "missing_percentage_CREDIT_LIMIT = (data['CREDIT_LIMIT'].isnull().sum() / len(data)) * 100\n",
    "print(f\"Porcentaje de valores faltantes en la columna 'CREDIT_LIMIT': {missing_percentage_CREDIT_LIMIT:.2f}%\")"
   ]
  },
  {
   "cell_type": "code",
   "execution_count": null,
   "metadata": {},
   "outputs": [],
   "source": [
    "missing_percentage_MINIMUM_PAYMENTS = (data['MINIMUM_PAYMENTS'].isnull().sum() / len(data)) * 100\n",
    "print(f\"Porcentaje de valores faltantes en la columna 'MINIMUM_PAYMENTS': {missing_percentage_MINIMUM_PAYMENTS:.2f}%\")"
   ]
  },
  {
   "cell_type": "code",
   "execution_count": null,
   "metadata": {},
   "outputs": [],
   "source": [
    "data.describe()"
   ]
  },
  {
   "cell_type": "code",
   "execution_count": null,
   "metadata": {},
   "outputs": [],
   "source": [
    "plt.scatter(data['BALANCE'], data['CREDIT_LIMIT'])\n",
    "plt.title('Relación entre BALANCE y CREDIT_LIMIT')\n",
    "plt.xlabel('Balance')\n",
    "plt.ylabel('Límite de Crédito')\n",
    "plt.show()"
   ]
  },
  {
   "cell_type": "code",
   "execution_count": null,
   "metadata": {},
   "outputs": [],
   "source": [
    "sns.scatterplot(x=data['BALANCE'], y=data['CREDIT_LIMIT'], hue=data['TENURE'], palette='coolwarm')\n",
    "plt.title('Relación entre BALANCE y CREDIT_LIMIT por TENURE')\n",
    "plt.show()"
   ]
  },
  {
   "cell_type": "code",
   "execution_count": null,
   "metadata": {},
   "outputs": [],
   "source": [
    "sns.boxplot(x=data['TENURE'], y=data['BALANCE'])\n",
    "plt.title('Distribución del BALANCE por TENURE')\n",
    "plt.xlabel('Antigüedad (Meses)')\n",
    "plt.ylabel('Saldo')\n",
    "plt.show()"
   ]
  },
  {
   "cell_type": "code",
   "execution_count": null,
   "metadata": {},
   "outputs": [],
   "source": [
    "sns.jointplot(x=data['PAYMENTS'], y=data['PURCHASES'])\n",
    "plt.show()"
   ]
  },
  {
   "cell_type": "code",
   "execution_count": null,
   "metadata": {},
   "outputs": [],
   "source": [
    "# AED para buscar correlación pero se debe utilizar variables numericas, el Cust_ID no lo es\n",
    "#data.corr()"
   ]
  },
  {
   "cell_type": "code",
   "execution_count": null,
   "metadata": {},
   "outputs": [],
   "source": [
    "# Filtrar las variables numéricas\n",
    "numeric_data = data.select_dtypes(include=['float64', 'int64'])"
   ]
  },
  {
   "cell_type": "code",
   "execution_count": null,
   "metadata": {},
   "outputs": [],
   "source": [
    "# Calcular la matriz de correlación\n",
    "correlation_matrix = numeric_data.corr()"
   ]
  },
  {
   "cell_type": "code",
   "execution_count": null,
   "metadata": {},
   "outputs": [],
   "source": [
    "# Graficar el heatmap\n",
    "plt.figure(figsize=(10, 8))\n",
    "sns.heatmap(correlation_matrix, annot=True, cmap='coolwarm', linewidths=0.5)\n",
    "plt.show()"
   ]
  },
  {
   "cell_type": "markdown",
   "metadata": {},
   "source": [
    "# Data Processing\n"
   ]
  },
  {
   "cell_type": "markdown",
   "metadata": {},
   "source": [
    "## Data Cleaning\n"
   ]
  },
  {
   "cell_type": "code",
   "execution_count": null,
   "metadata": {},
   "outputs": [],
   "source": [
    "missing_columns = data.columns[data.isnull().any()]"
   ]
  },
  {
   "cell_type": "code",
   "execution_count": null,
   "metadata": {},
   "outputs": [],
   "source": [
    "# Crear subplots para cada columna con valores faltantes\n",
    "plt.figure(figsize=(10, 8))\n",
    "for i, column in enumerate(missing_columns, 1):\n",
    "    plt.subplot(len(missing_columns), 1, i)\n",
    "    sns.histplot(data[column], kde=True, color='blue')\n",
    "    plt.title(f'Distribución de {column}')\n",
    "    plt.xlabel(column)\n",
    "    plt.ylabel('Frecuencia')\n",
    "\n",
    "plt.tight_layout()\n",
    "plt.show()"
   ]
  },
  {
   "cell_type": "code",
   "execution_count": null,
   "metadata": {},
   "outputs": [],
   "source": [
    "#eliminar el Cust_ID\n",
    "data = data.drop(columns=['CUST_ID'])"
   ]
  },
  {
   "cell_type": "code",
   "execution_count": null,
   "metadata": {},
   "outputs": [],
   "source": [
    "# Imputar con la mediana para todas las columnas numéricas\n",
    "data_imputed = data.fillna(data.median())"
   ]
  },
  {
   "cell_type": "code",
   "execution_count": null,
   "metadata": {},
   "outputs": [],
   "source": [
    "data_imputed.isnull().sum()"
   ]
  },
  {
   "cell_type": "code",
   "execution_count": null,
   "metadata": {},
   "outputs": [],
   "source": [
    "# Eliminar la columna CUST_ID\n",
    "data_cleaned = data_imputed"
   ]
  },
  {
   "cell_type": "code",
   "execution_count": null,
   "metadata": {},
   "outputs": [],
   "source": [
    "data_cleaned.info()"
   ]
  },
  {
   "cell_type": "markdown",
   "metadata": {},
   "source": [
    "## Feature Engineering\n",
    "Cree al menos 2 variables nuevas\n"
   ]
  },
  {
   "cell_type": "code",
   "execution_count": null,
   "metadata": {},
   "outputs": [],
   "source": [
    "# Relación entre las compras y el límite en el crédito\n",
    "data_cleaned['PURCHASES_TO_CREDIT_LIMIT'] = data_cleaned['PURCHASES'] / data_cleaned['CREDIT_LIMIT']"
   ]
  },
  {
   "cell_type": "code",
   "execution_count": null,
   "metadata": {},
   "outputs": [],
   "source": [
    "# Realación entre los pagos y el saldo\n",
    "data_cleaned['PAYMENTS_TO_BALANCE'] = data_cleaned['PAYMENTS'] / data_cleaned['BALANCE']"
   ]
  },
  {
   "cell_type": "code",
   "execution_count": null,
   "metadata": {},
   "outputs": [],
   "source": [
    "data_cleaned[['PURCHASES_TO_CREDIT_LIMIT', 'PAYMENTS_TO_BALANCE']].head()"
   ]
  },
  {
   "cell_type": "code",
   "execution_count": null,
   "metadata": {},
   "outputs": [],
   "source": [
    "plt.figure(figsize=(14, 6))\n",
    "\n",
    "plt.subplot(1, 2, 1)\n",
    "sns.histplot(data_cleaned['PURCHASES_TO_CREDIT_LIMIT'], kde=True, color='green')\n",
    "plt.title('Distribución de PURCHASES_TO_CREDIT_LIMIT')\n",
    "plt.xlabel('Proporción Compras/Límite de Crédito')\n",
    "plt.ylabel('Frecuencia')"
   ]
  },
  {
   "cell_type": "code",
   "execution_count": null,
   "metadata": {},
   "outputs": [],
   "source": [
    "\"\"\"plt.subplot(1, 2, 2)\n",
    "sns.histplot(data_cleaned['PAYMENTS_TO_BALANCE'], kde=True, color='orange')\n",
    "plt.title('Distribución de PAYMENTS_TO_BALANCE')\n",
    "plt.xlabel('Proporción Pagos/Balance')\n",
    "plt.ylabel('Frecuencia')\n",
    "\n",
    "plt.tight_layout()\n",
    "plt.show()\"\"\""
   ]
  },
  {
   "cell_type": "code",
   "execution_count": null,
   "metadata": {},
   "outputs": [],
   "source": [
    "# La computadora no pudo realizar la gráfica anterior así que se hizo una transformación logarítmica\n",
    "data_cleaned['log_PAYMENTS_TO_BALANCE'] = np.log1p(data_cleaned['PAYMENTS_TO_BALANCE'])"
   ]
  },
  {
   "cell_type": "code",
   "execution_count": null,
   "metadata": {},
   "outputs": [],
   "source": [
    "data_cleaned[['PURCHASES_TO_CREDIT_LIMIT', 'PAYMENTS_TO_BALANCE', 'log_PAYMENTS_TO_BALANCE']].head()"
   ]
  },
  {
   "cell_type": "code",
   "execution_count": null,
   "metadata": {},
   "outputs": [],
   "source": [
    "plt.figure(figsize=(6, 4))\n",
    "sns.stripplot(data=data_cleaned, x='PAYMENTS_TO_BALANCE', color='purple', alpha=0.6)\n",
    "plt.title('Puntos de PAYMENTS_TO_BALANCE')\n",
    "plt.xlabel('Proporción Pagos/Balance')\n",
    "plt.show()"
   ]
  },
  {
   "cell_type": "code",
   "execution_count": null,
   "metadata": {},
   "outputs": [],
   "source": [
    "# Graficar la distribución log-transformada\n",
    "plt.figure(figsize=(6, 4))\n",
    "sns.histplot(data_cleaned['log_PAYMENTS_TO_BALANCE'], kde=True, color='orange')\n",
    "plt.title('Distribución Log-Transformada de PAYMENTS_TO_BALANCE')\n",
    "plt.xlabel('Log(Pagos/Balance)')\n",
    "plt.ylabel('Frecuencia')\n",
    "plt.show()"
   ]
  },
  {
   "cell_type": "markdown",
   "metadata": {},
   "source": [
    "Se crea categoria del Credit Limit para hacer una análisis categorico y no manejar la variable continua."
   ]
  },
  {
   "cell_type": "code",
   "execution_count": null,
   "metadata": {},
   "outputs": [],
   "source": [
    "data_cleaned[['CREDIT_LIMIT']].describe()"
   ]
  },
  {
   "cell_type": "code",
   "execution_count": null,
   "metadata": {},
   "outputs": [],
   "source": [
    "data_cleaned['CREDIT_LIMIT_CATEGORY'] = pd.cut(\n",
    "    data_cleaned['CREDIT_LIMIT'],\n",
    "    bins=[0, 1500, 3000, 6000, 9000, data_cleaned['CREDIT_LIMIT'].max()],\n",
    "    labels=[1, 2, 3, 4,5],\n",
    "    right=True\n",
    ")"
   ]
  },
  {
   "cell_type": "code",
   "execution_count": null,
   "metadata": {},
   "outputs": [],
   "source": [
    "sns.boxplot(x=data_cleaned['CREDIT_LIMIT_CATEGORY'], y=data_cleaned['BALANCE'])\n",
    "plt.title('Distribución del BALANCE por CREDIT_LIMIT_CATEGORY')\n",
    "plt.xlabel('Categoria crédito')\n",
    "plt.ylabel('Saldo')\n",
    "plt.show()"
   ]
  },
  {
   "cell_type": "code",
   "execution_count": null,
   "metadata": {},
   "outputs": [],
   "source": [
    "data_cleaned.columns"
   ]
  },
  {
   "cell_type": "code",
   "execution_count": null,
   "metadata": {},
   "outputs": [],
   "source": [
    "cluster_cols = ['BALANCE', 'PURCHASES', 'CASH_ADVANCE','PURCHASES_TRX','PAYMENTS','TENURE']\n",
    "\n",
    "\n",
    "plt.figure(1, figsize=(16,10))\n",
    "sns.pairplot(data=data_cleaned[cluster_cols+['CREDIT_LIMIT_CATEGORY']], hue='CREDIT_LIMIT_CATEGORY')\n",
    "plt.show()"
   ]
  },
  {
   "cell_type": "markdown",
   "metadata": {},
   "source": [
    "## Encoding\n"
   ]
  },
  {
   "cell_type": "markdown",
   "metadata": {},
   "source": [
    "No es necesario realizar encodig. Las variables son numéricas. Hay categoricas binarias, variables continuas y categoricas ordinales. Por lo tanto los algoritmos de ml podrán interpretar correctamente."
   ]
  },
  {
   "cell_type": "markdown",
   "metadata": {},
   "source": [
    "## Scaling (if needed)\n"
   ]
  },
  {
   "cell_type": "code",
   "execution_count": null,
   "metadata": {},
   "outputs": [],
   "source": [
    "all_vars = data_cleaned.columns\n",
    "print(all_vars)\n",
    "numeric_vars = ['BALANCE', 'BALANCE_FREQUENCY', 'PURCHASES', 'ONEOFF_PURCHASES',\n",
    "       'INSTALLMENTS_PURCHASES', 'CASH_ADVANCE', 'PURCHASES_FREQUENCY',\n",
    "       'ONEOFF_PURCHASES_FREQUENCY', 'PURCHASES_INSTALLMENTS_FREQUENCY',\n",
    "       'CASH_ADVANCE_FREQUENCY', 'CASH_ADVANCE_TRX', 'PURCHASES_TRX',\n",
    "       'CREDIT_LIMIT', 'PAYMENTS', 'MINIMUM_PAYMENTS', 'PRC_FULL_PAYMENT',\n",
    "       'TENURE', 'PURCHASES_TO_CREDIT_LIMIT', 'CREDIT_LIMIT_CATEGORY']"
   ]
  },
  {
   "cell_type": "code",
   "execution_count": null,
   "metadata": {},
   "outputs": [],
   "source": [
    "from sklearn.preprocessing import OneHotEncoder, MinMaxScaler\n",
    "from sklearn.compose import ColumnTransformer\n",
    "from sklearn.pipeline import Pipeline\n",
    "\n",
    "# Crear un transformer para las columnas numéricas (escalado)\n",
    "numeric_transformer = MinMaxScaler()\n",
    "\n",
    "# Crear un ColumnTransformer que aplique el escalado\n",
    "preprocessor = ColumnTransformer(\n",
    "    transformers=[\n",
    "        ('num', numeric_transformer, numeric_vars),\n",
    "    ])"
   ]
  },
  {
   "cell_type": "code",
   "execution_count": null,
   "metadata": {},
   "outputs": [],
   "source": [
    "# Ajustar y transformar los datos con el preprocesador\n",
    "data_preprocessed = preprocessor.fit_transform(data_cleaned)\n",
    "\n",
    "# Mostrar los datos preprocesados\n",
    "print(data_preprocessed)"
   ]
  },
  {
   "cell_type": "code",
   "execution_count": null,
   "metadata": {},
   "outputs": [],
   "source": [
    "# Crear el nuevo DataFrame con los datos preprocesados\n",
    "df_preprocessed = pd.DataFrame(data_preprocessed, columns=numeric_vars)\n",
    "\n",
    "# Mostrar el nuevo DataFrame\n",
    "print(\"DataFrame preprocesado:\")\n",
    "print(df_preprocessed)"
   ]
  },
  {
   "cell_type": "markdown",
   "metadata": {},
   "source": [
    "## # Train model/Tune hyperparameters \n",
    "\n",
    "Explique el criterio utilizado"
   ]
  },
  {
   "cell_type": "code",
   "execution_count": null,
   "metadata": {},
   "outputs": [],
   "source": [
    "# Método del Codo\n",
    "sse = []\n",
    "silhouette_scores = []\n",
    "K = range(2, 11)\n",
    "\n",
    "for k in K:\n",
    "    kmeans = KMeans(n_clusters=k, random_state=42)\n",
    "    kmeans.fit(df_preprocessed)\n",
    "    sse.append(kmeans.inertia_)\n",
    "    silhouette_scores.append(silhouette_score(df_preprocessed, kmeans.labels_))"
   ]
  },
  {
   "cell_type": "code",
   "execution_count": null,
   "metadata": {},
   "outputs": [],
   "source": [
    "# Gráfico del método del Codo\n",
    "plt.figure(figsize=(10, 6))\n",
    "plt.plot(K, sse, 'bx-')\n",
    "plt.xlabel('Número de clusters')\n",
    "plt.ylabel('SSE')\n",
    "plt.title('Método del Codo para encontrar el número óptimo de clusters')\n",
    "plt.show()\n",
    "\n",
    "# Gráfico del Silhouette Score\n",
    "plt.figure(figsize=(10, 6))\n",
    "plt.plot(K, silhouette_scores, 'bx-')\n",
    "plt.xlabel('Número de clusters')\n",
    "plt.ylabel('Silhouette Score')\n",
    "plt.title('Silhouette Score para diferentes K')\n",
    "plt.show()"
   ]
  },
  {
   "cell_type": "code",
   "execution_count": null,
   "metadata": {},
   "outputs": [],
   "source": [
    "# Ejemplo DBSCAN\n",
    "\n",
    "param_grid = {\n",
    "    'eps': [0.1, 0.2, 0.3, 0.5, 0.7],  # Distancia de radio\n",
    "    'min_samples': [3, 5, 10]  # Número mínimo de puntos para formar un cluster\n",
    "}\n",
    "\n",
    "# Variable para almacenar los mejores resultados\n",
    "best_score = -1\n",
    "best_params = {}\n",
    "\n",
    "# Búsqueda manual (Grid Search)\n",
    "for eps in param_grid['eps']:\n",
    "    for min_samples in param_grid['min_samples']:\n",
    "        # Definir el modelo con los parámetros actuales\n",
    "        dbscan = DBSCAN(eps=eps, min_samples=min_samples)\n",
    "        \n",
    "        # Ajustar el modelo\n",
    "        labels = dbscan.fit_predict(df_preprocessed)\n",
    "        \n",
    "        # Verificar que haya clusters generados, ya que DBSCAN puede generar ruido (label -1)\n",
    "        if len(set(labels)) > 1:  # Necesitamos al menos 2 clusters para calcular el Silhouette Score\n",
    "            # Evaluar el modelo con Silhouette Score\n",
    "            score = silhouette_score(df_preprocessed, labels)\n",
    "            \n",
    "            # Guardar si es el mejor score\n",
    "            if score > best_score:\n",
    "                best_score = score\n",
    "                best_params = {\n",
    "                    'eps': eps,\n",
    "                    'min_samples': min_samples\n",
    "                }\n",
    "\n",
    "# Imprimir los mejores parámetros y el mejor score\n",
    "print(f\"Mejores Parámetros: {best_params}\")\n",
    "print(f\"Mejor Silhouette Score: {best_score:.4f}\")\n"
   ]
  },
  {
   "cell_type": "code",
   "execution_count": null,
   "metadata": {},
   "outputs": [],
   "source": [
    "# best_model = KMeans(random_state=42,n_clusters=K)\n",
    "# best_model = KMedoids(random_state=42,n_clusters=K)\n",
    "\n",
    "# best_model = DBSCAN(**best_params)\n",
    "# best_model = AgglomerativeClustering(**best_params)"
   ]
  },
  {
   "cell_type": "code",
   "execution_count": null,
   "metadata": {},
   "outputs": [],
   "source": [
    "best_model.fit(df_preprocesssed)"
   ]
  },
  {
   "cell_type": "code",
   "execution_count": null,
   "metadata": {},
   "outputs": [],
   "source": [
    "# Crear el clustering jerárquico, método 'complete'\n",
    "data_cluster = df_preprocessed\n",
    "linked = linkage(data_cluster, method='complete')\n",
    "\n",
    "# Graficar el dendrograma\n",
    "plt.figure(figsize=(10, 7))\n",
    "dendrogram(linked,\n",
    "           orientation='top',  # orientación del dendrograma\n",
    "           distance_sort='descending',  # ordenar por distancia\n",
    "           show_leaf_counts=True)  # mostrar número de puntos en cada cluster\n",
    "plt.title('Dendrograma de Clustering Jerárquico')\n",
    "plt.xlabel('Muestras')\n",
    "plt.ylabel('Distancia')\n",
    "plt.show()\n",
    "\n",
    "# Clustering jerárquico con AgglomerativeClustering de sklearn\n",
    "n_clusters = 3\n",
    "hierarchical_clustering = AgglomerativeClustering(n_clusters=n_clusters, linkage='complete')\n",
    "cluster_labels = hierarchical_clustering.fit_predict(data_cluster)\n",
    "\n",
    "# Añadir los labels al DataFrame\n",
    "data_cluster['Cluster'] = cluster_labels\n",
    "\n",
    "plt.figure(figsize=(10, 6))\n",
    "sns.scatterplot(data=data_cluster, x=data_cluster.columns[0], y=data_cluster.columns[1], hue='Cluster', palette='viridis')\n",
    "plt.title('Clusters usando Clustering Jerárquico (Complete Linkage)')\n",
    "plt.xlabel(data_cluster.columns[0])\n",
    "plt.ylabel(data_cluster.columns[1])\n",
    "plt.show()"
   ]
  },
  {
   "cell_type": "markdown",
   "metadata": {},
   "source": [
    "# Visualization of clusters"
   ]
  },
  {
   "cell_type": "code",
   "execution_count": null,
   "metadata": {},
   "outputs": [],
   "source": [
    "# Numerical variable distribution among clusters\n",
    "fig, axs = plt.subplots(1, 3, figsize=(15, 4))\n",
    "cols = ['VAR_NUM1', 'VAR_NUM2', 'VAR_NUM3']\n",
    "for i in range(len(cols)):\n",
    "    sns.boxplot(data=df, x='CLUSTER', y=cols[i], ax=axs[i])\n",
    "fig.suptitle('Numerical Variable Distribution Among Clusters')\n",
    "plt.tight_layout()\n",
    "plt.show()"
   ]
  },
  {
   "cell_type": "markdown",
   "metadata": {},
   "source": [
    "# Interpretation of clusters"
   ]
  },
  {
   "cell_type": "code",
   "execution_count": null,
   "metadata": {},
   "outputs": [],
   "source": [
    "EJEMPLO\n",
    "\n",
    "1. Cluster 0. Clientes con ingreso anual intermedio y score de gasto anual intermedio\n",
    "2. Cluster 1. Clientes con bajo ingreso anual y alto score de gasto anual\n",
    "3. Cluster 2. Clientes con alto ingreso anual y alto score de gasto anual\n",
    "4. Cluster 3. Clientes con alto ingreso anual y bajo score de gasto anual"
   ]
  }
 ],
 "metadata": {
  "kernelspec": {
   "display_name": "Python 3 (ipykernel)",
   "language": "python",
   "name": "python3"
  },
  "language_info": {
   "codemirror_mode": {
    "name": "ipython",
    "version": 3
   },
   "file_extension": ".py",
   "mimetype": "text/x-python",
   "name": "python",
   "nbconvert_exporter": "python",
   "pygments_lexer": "ipython3",
   "version": "3.11.7"
  }
 },
 "nbformat": 4,
 "nbformat_minor": 4
}
