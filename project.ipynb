{
 "cells": [
  {
   "cell_type": "markdown",
   "metadata": {},
   "source": [
    "# Import libraries\n"
   ]
  },
  {
   "cell_type": "code",
   "execution_count": null,
   "metadata": {
    "scrolled": true
   },
   "outputs": [],
   "source": [
    "import pandas as pd\n",
    "import numpy as np\n",
    "import matplotlib.pyplot as plt\n",
    "import seaborn as sns\n",
    "from sklearn.cluster import KMeans\n",
    "from sklearn.preprocessing import StandardScaler\n",
    "from sklearn.metrics import silhouette_score\n",
    "from sklearn_extra.cluster import KMedoids\n",
    "from sklearn.metrics import silhouette_score\n",
    "from sklearn.cluster import KMeans, AgglomerativeClustering\n",
    "from scipy.cluster.hierarchy import linkage, dendrogram\n",
    "import os\n",
    "from sklearn.cluster import DBSCAN\n",
    "from sklearn.cluster import AgglomerativeClustering "
   ]
  },
  {
   "cell_type": "markdown",
   "metadata": {},
   "source": [
    "# Load the dataset\n"
   ]
  },
  {
   "cell_type": "code",
   "execution_count": null,
   "metadata": {},
   "outputs": [],
   "source": [
    "data = pd.read_csv('./dataset/CC GENERAL.csv')"
   ]
  },
  {
   "cell_type": "code",
   "execution_count": null,
   "metadata": {},
   "outputs": [],
   "source": [
    "data.head()"
   ]
  },
  {
   "cell_type": "markdown",
   "metadata": {},
   "source": [
    "# Exploratory Data Analysis\n"
   ]
  },
  {
   "cell_type": "code",
   "execution_count": null,
   "metadata": {},
   "outputs": [],
   "source": [
    "data.info()"
   ]
  },
  {
   "cell_type": "code",
   "execution_count": null,
   "metadata": {},
   "outputs": [],
   "source": [
    "data.isnull().sum()"
   ]
  },
  {
   "cell_type": "code",
   "execution_count": null,
   "metadata": {},
   "outputs": [],
   "source": [
    "missing_percentage_CREDIT_LIMIT = (data['CREDIT_LIMIT'].isnull().sum() / len(data)) * 100\n",
    "print(f\"Porcentaje de valores faltantes en la columna 'CREDIT_LIMIT': {missing_percentage_CREDIT_LIMIT:.2f}%\")"
   ]
  },
  {
   "cell_type": "code",
   "execution_count": null,
   "metadata": {},
   "outputs": [],
   "source": [
    "missing_percentage_MINIMUM_PAYMENTS = (data['MINIMUM_PAYMENTS'].isnull().sum() / len(data)) * 100\n",
    "print(f\"Porcentaje de valores faltantes en la columna 'MINIMUM_PAYMENTS': {missing_percentage_MINIMUM_PAYMENTS:.2f}%\")"
   ]
  },
  {
   "cell_type": "code",
   "execution_count": null,
   "metadata": {},
   "outputs": [],
   "source": [
    "data.describe()"
   ]
  },
  {
   "cell_type": "code",
   "execution_count": null,
   "metadata": {},
   "outputs": [],
   "source": [
    "plt.scatter(data['BALANCE'], data['CREDIT_LIMIT'])\n",
    "plt.title('Relación entre BALANCE y CREDIT_LIMIT')\n",
    "plt.xlabel('Balance')\n",
    "plt.ylabel('Límite de Crédito')\n",
    "plt.show()"
   ]
  },
  {
   "cell_type": "code",
   "execution_count": null,
   "metadata": {},
   "outputs": [],
   "source": [
    "sns.scatterplot(x=data['BALANCE'], y=data['CREDIT_LIMIT'], hue=data['TENURE'], palette='coolwarm')\n",
    "plt.title('Relación entre BALANCE y CREDIT_LIMIT por TENURE')\n",
    "plt.show()"
   ]
  },
  {
   "cell_type": "code",
   "execution_count": null,
   "metadata": {},
   "outputs": [],
   "source": [
    "sns.boxplot(x=data['TENURE'], y=data['BALANCE'])\n",
    "plt.title('Distribución del BALANCE por TENURE')\n",
    "plt.xlabel('Antigüedad (Meses)')\n",
    "plt.ylabel('Saldo')\n",
    "plt.show()"
   ]
  },
  {
   "cell_type": "code",
   "execution_count": null,
   "metadata": {},
   "outputs": [],
   "source": [
    "sns.jointplot(x=data['PAYMENTS'], y=data['PURCHASES'])\n",
    "plt.show()"
   ]
  },
  {
   "cell_type": "code",
   "execution_count": null,
   "metadata": {},
   "outputs": [],
   "source": [
    "data.corr()"
   ]
  },
  {
   "cell_type": "markdown",
   "metadata": {},
   "source": [
    "# Data Processing\n"
   ]
  },
  {
   "cell_type": "code",
   "execution_count": null,
   "metadata": {},
   "outputs": [],
   "source": []
  },
  {
   "cell_type": "markdown",
   "metadata": {},
   "source": [
    "## Data Cleaning\n"
   ]
  },
  {
   "cell_type": "markdown",
   "metadata": {},
   "source": [
    "## Feature Engineering\n",
    "Cree al menos 2 variables nuevas\n"
   ]
  },
  {
   "cell_type": "markdown",
   "metadata": {},
   "source": [
    "## Encoding\n"
   ]
  },
  {
   "cell_type": "markdown",
   "metadata": {},
   "source": [
    "## Scaling (if needed)\n"
   ]
  },
  {
   "cell_type": "markdown",
   "metadata": {},
   "source": [
    "## # Train model/Tune hyperparameters \n",
    "\n",
    "Explique el criterio utilizado"
   ]
  },
  {
   "cell_type": "code",
   "execution_count": null,
   "metadata": {},
   "outputs": [],
   "source": [
    "# Método del Codo\n",
    "sse = []\n",
    "silhouette_scores = []\n",
    "K = range(2, 11)\n",
    "\n",
    "for k in K:\n",
    "    kmeans = KMeans(n_clusters=k, random_state=42)\n",
    "    kmeans.fit(df_preprocessed)\n",
    "    sse.append(kmeans.inertia_)\n",
    "    silhouette_scores.append(silhouette_score(df_preprocessed, kmeans.labels_))"
   ]
  },
  {
   "cell_type": "code",
   "execution_count": null,
   "metadata": {},
   "outputs": [],
   "source": [
    "# Gráfico del método del Codo\n",
    "plt.figure(figsize=(10, 6))\n",
    "plt.plot(K, sse, 'bx-')\n",
    "plt.xlabel('Número de clusters')\n",
    "plt.ylabel('SSE')\n",
    "plt.title('Método del Codo para encontrar el número óptimo de clusters')\n",
    "plt.show()\n",
    "\n",
    "# Gráfico del Silhouette Score\n",
    "plt.figure(figsize=(10, 6))\n",
    "plt.plot(K, silhouette_scores, 'bx-')\n",
    "plt.xlabel('Número de clusters')\n",
    "plt.ylabel('Silhouette Score')\n",
    "plt.title('Silhouette Score para diferentes K')\n",
    "plt.show()"
   ]
  },
  {
   "cell_type": "code",
   "execution_count": null,
   "metadata": {},
   "outputs": [],
   "source": []
  },
  {
   "cell_type": "code",
   "execution_count": null,
   "metadata": {},
   "outputs": [],
   "source": [
    "# Ejemplo DBSCAN\n",
    "\n",
    "param_grid = {\n",
    "    'eps': [0.1, 0.2, 0.3, 0.5, 0.7],  # Distancia de radio\n",
    "    'min_samples': [3, 5, 10]  # Número mínimo de puntos para formar un cluster\n",
    "}\n",
    "\n",
    "# Variable para almacenar los mejores resultados\n",
    "best_score = -1\n",
    "best_params = {}\n",
    "\n",
    "# Búsqueda manual (Grid Search)\n",
    "for eps in param_grid['eps']:\n",
    "    for min_samples in param_grid['min_samples']:\n",
    "        # Definir el modelo con los parámetros actuales\n",
    "        dbscan = DBSCAN(eps=eps, min_samples=min_samples)\n",
    "        \n",
    "        # Ajustar el modelo\n",
    "        labels = dbscan.fit_predict(df_preprocessed)\n",
    "        \n",
    "        # Verificar que haya clusters generados, ya que DBSCAN puede generar ruido (label -1)\n",
    "        if len(set(labels)) > 1:  # Necesitamos al menos 2 clusters para calcular el Silhouette Score\n",
    "            # Evaluar el modelo con Silhouette Score\n",
    "            score = silhouette_score(df_preprocessed, labels)\n",
    "            \n",
    "            # Guardar si es el mejor score\n",
    "            if score > best_score:\n",
    "                best_score = score\n",
    "                best_params = {\n",
    "                    'eps': eps,\n",
    "                    'min_samples': min_samples\n",
    "                }\n",
    "\n",
    "# Imprimir los mejores parámetros y el mejor score\n",
    "print(f\"Mejores Parámetros: {best_params}\")\n",
    "print(f\"Mejor Silhouette Score: {best_score:.4f}\")\n"
   ]
  },
  {
   "cell_type": "code",
   "execution_count": null,
   "metadata": {},
   "outputs": [],
   "source": [
    "# best_model = KMeans(random_state=42,n_clusters=K)\n",
    "# best_model = KMedoids(random_state=42,n_clusters=K)\n",
    "\n",
    "# best_model = DBSCAN(**best_params)\n",
    "# best_model = AgglomerativeClustering(**best_params)"
   ]
  },
  {
   "cell_type": "code",
   "execution_count": null,
   "metadata": {},
   "outputs": [],
   "source": [
    "best_model.fit(df_preprocesssed)"
   ]
  },
  {
   "cell_type": "markdown",
   "metadata": {},
   "source": [
    "# Visualization of clusters"
   ]
  },
  {
   "cell_type": "code",
   "execution_count": null,
   "metadata": {},
   "outputs": [],
   "source": [
    "# Numerical variable distribution among clusters\n",
    "fig, axs = plt.subplots(1, 3, figsize=(15, 4))\n",
    "cols = ['VAR_NUM1', 'VAR_NUM2', 'VAR_NUM3']\n",
    "for i in range(len(cols)):\n",
    "    sns.boxplot(data=df, x='CLUSTER', y=cols[i], ax=axs[i])\n",
    "fig.suptitle('Numerical Variable Distribution Among Clusters')\n",
    "plt.tight_layout()\n",
    "plt.show()"
   ]
  },
  {
   "cell_type": "markdown",
   "metadata": {},
   "source": [
    "# Interpretation of clusters"
   ]
  },
  {
   "cell_type": "code",
   "execution_count": null,
   "metadata": {},
   "outputs": [],
   "source": [
    "EJEMPLO\n",
    "\n",
    "1. Cluster 0. Clientes con ingreso anual intermedio y score de gasto anual intermedio\n",
    "2. Cluster 1. Clientes con bajo ingreso anual y alto score de gasto anual\n",
    "3. Cluster 2. Clientes con alto ingreso anual y alto score de gasto anual\n",
    "4. Cluster 3. Clientes con alto ingreso anual y bajo score de gasto anual"
   ]
  }
 ],
 "metadata": {
  "kernelspec": {
   "display_name": "Python 3 (ipykernel)",
   "language": "python",
   "name": "python3"
  },
  "language_info": {
   "codemirror_mode": {
    "name": "ipython",
    "version": 3
   },
   "file_extension": ".py",
   "mimetype": "text/x-python",
   "name": "python",
   "nbconvert_exporter": "python",
   "pygments_lexer": "ipython3",
   "version": "3.9.13"
  }
 },
 "nbformat": 4,
 "nbformat_minor": 2
}
